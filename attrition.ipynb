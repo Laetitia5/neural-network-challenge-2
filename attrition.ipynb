{
 "cells": [
  {
   "cell_type": "markdown",
   "metadata": {
    "id": "alIIEHibGc3M"
   },
   "source": [
    "## Part 1: Preprocessing"
   ]
  },
  {
   "cell_type": "code",
   "execution_count": 1,
   "metadata": {
    "colab": {
     "base_uri": "https://localhost:8080/",
     "height": 325
    },
    "executionInfo": {
     "elapsed": 12323,
     "status": "ok",
     "timestamp": 1730699226906,
     "user": {
      "displayName": "Alexander Booth",
      "userId": "02269714993535573104"
     },
     "user_tz": 360
    },
    "id": "6eDUJ4NtGc3P",
    "outputId": "eeae54b5-3d17-442d-94ba-00dd55b89964"
   },
   "outputs": [
    {
     "name": "stderr",
     "output_type": "stream",
     "text": [
      "2025-03-05 21:24:38.055169: I tensorflow/core/platform/cpu_feature_guard.cc:193] This TensorFlow binary is optimized with oneAPI Deep Neural Network Library (oneDNN) to use the following CPU instructions in performance-critical operations:  SSE4.1 SSE4.2\n",
      "To enable them in other operations, rebuild TensorFlow with the appropriate compiler flags.\n"
     ]
    },
    {
     "data": {
      "text/html": [
       "<div>\n",
       "<style scoped>\n",
       "    .dataframe tbody tr th:only-of-type {\n",
       "        vertical-align: middle;\n",
       "    }\n",
       "\n",
       "    .dataframe tbody tr th {\n",
       "        vertical-align: top;\n",
       "    }\n",
       "\n",
       "    .dataframe thead th {\n",
       "        text-align: right;\n",
       "    }\n",
       "</style>\n",
       "<table border=\"1\" class=\"dataframe\">\n",
       "  <thead>\n",
       "    <tr style=\"text-align: right;\">\n",
       "      <th></th>\n",
       "      <th>Age</th>\n",
       "      <th>Attrition</th>\n",
       "      <th>BusinessTravel</th>\n",
       "      <th>Department</th>\n",
       "      <th>DistanceFromHome</th>\n",
       "      <th>Education</th>\n",
       "      <th>EducationField</th>\n",
       "      <th>EnvironmentSatisfaction</th>\n",
       "      <th>HourlyRate</th>\n",
       "      <th>JobInvolvement</th>\n",
       "      <th>...</th>\n",
       "      <th>PerformanceRating</th>\n",
       "      <th>RelationshipSatisfaction</th>\n",
       "      <th>StockOptionLevel</th>\n",
       "      <th>TotalWorkingYears</th>\n",
       "      <th>TrainingTimesLastYear</th>\n",
       "      <th>WorkLifeBalance</th>\n",
       "      <th>YearsAtCompany</th>\n",
       "      <th>YearsInCurrentRole</th>\n",
       "      <th>YearsSinceLastPromotion</th>\n",
       "      <th>YearsWithCurrManager</th>\n",
       "    </tr>\n",
       "  </thead>\n",
       "  <tbody>\n",
       "    <tr>\n",
       "      <th>0</th>\n",
       "      <td>41</td>\n",
       "      <td>Yes</td>\n",
       "      <td>Travel_Rarely</td>\n",
       "      <td>Sales</td>\n",
       "      <td>1</td>\n",
       "      <td>2</td>\n",
       "      <td>Life Sciences</td>\n",
       "      <td>2</td>\n",
       "      <td>94</td>\n",
       "      <td>3</td>\n",
       "      <td>...</td>\n",
       "      <td>3</td>\n",
       "      <td>1</td>\n",
       "      <td>0</td>\n",
       "      <td>8</td>\n",
       "      <td>0</td>\n",
       "      <td>1</td>\n",
       "      <td>6</td>\n",
       "      <td>4</td>\n",
       "      <td>0</td>\n",
       "      <td>5</td>\n",
       "    </tr>\n",
       "    <tr>\n",
       "      <th>1</th>\n",
       "      <td>49</td>\n",
       "      <td>No</td>\n",
       "      <td>Travel_Frequently</td>\n",
       "      <td>Research &amp; Development</td>\n",
       "      <td>8</td>\n",
       "      <td>1</td>\n",
       "      <td>Life Sciences</td>\n",
       "      <td>3</td>\n",
       "      <td>61</td>\n",
       "      <td>2</td>\n",
       "      <td>...</td>\n",
       "      <td>4</td>\n",
       "      <td>4</td>\n",
       "      <td>1</td>\n",
       "      <td>10</td>\n",
       "      <td>3</td>\n",
       "      <td>3</td>\n",
       "      <td>10</td>\n",
       "      <td>7</td>\n",
       "      <td>1</td>\n",
       "      <td>7</td>\n",
       "    </tr>\n",
       "    <tr>\n",
       "      <th>2</th>\n",
       "      <td>37</td>\n",
       "      <td>Yes</td>\n",
       "      <td>Travel_Rarely</td>\n",
       "      <td>Research &amp; Development</td>\n",
       "      <td>2</td>\n",
       "      <td>2</td>\n",
       "      <td>Other</td>\n",
       "      <td>4</td>\n",
       "      <td>92</td>\n",
       "      <td>2</td>\n",
       "      <td>...</td>\n",
       "      <td>3</td>\n",
       "      <td>2</td>\n",
       "      <td>0</td>\n",
       "      <td>7</td>\n",
       "      <td>3</td>\n",
       "      <td>3</td>\n",
       "      <td>0</td>\n",
       "      <td>0</td>\n",
       "      <td>0</td>\n",
       "      <td>0</td>\n",
       "    </tr>\n",
       "    <tr>\n",
       "      <th>3</th>\n",
       "      <td>33</td>\n",
       "      <td>No</td>\n",
       "      <td>Travel_Frequently</td>\n",
       "      <td>Research &amp; Development</td>\n",
       "      <td>3</td>\n",
       "      <td>4</td>\n",
       "      <td>Life Sciences</td>\n",
       "      <td>4</td>\n",
       "      <td>56</td>\n",
       "      <td>3</td>\n",
       "      <td>...</td>\n",
       "      <td>3</td>\n",
       "      <td>3</td>\n",
       "      <td>0</td>\n",
       "      <td>8</td>\n",
       "      <td>3</td>\n",
       "      <td>3</td>\n",
       "      <td>8</td>\n",
       "      <td>7</td>\n",
       "      <td>3</td>\n",
       "      <td>0</td>\n",
       "    </tr>\n",
       "    <tr>\n",
       "      <th>4</th>\n",
       "      <td>27</td>\n",
       "      <td>No</td>\n",
       "      <td>Travel_Rarely</td>\n",
       "      <td>Research &amp; Development</td>\n",
       "      <td>2</td>\n",
       "      <td>1</td>\n",
       "      <td>Medical</td>\n",
       "      <td>1</td>\n",
       "      <td>40</td>\n",
       "      <td>3</td>\n",
       "      <td>...</td>\n",
       "      <td>3</td>\n",
       "      <td>4</td>\n",
       "      <td>1</td>\n",
       "      <td>6</td>\n",
       "      <td>3</td>\n",
       "      <td>3</td>\n",
       "      <td>2</td>\n",
       "      <td>2</td>\n",
       "      <td>2</td>\n",
       "      <td>2</td>\n",
       "    </tr>\n",
       "  </tbody>\n",
       "</table>\n",
       "<p>5 rows × 27 columns</p>\n",
       "</div>"
      ],
      "text/plain": [
       "   Age Attrition     BusinessTravel              Department  DistanceFromHome  \\\n",
       "0   41       Yes      Travel_Rarely                   Sales                 1   \n",
       "1   49        No  Travel_Frequently  Research & Development                 8   \n",
       "2   37       Yes      Travel_Rarely  Research & Development                 2   \n",
       "3   33        No  Travel_Frequently  Research & Development                 3   \n",
       "4   27        No      Travel_Rarely  Research & Development                 2   \n",
       "\n",
       "   Education EducationField  EnvironmentSatisfaction  HourlyRate  \\\n",
       "0          2  Life Sciences                        2          94   \n",
       "1          1  Life Sciences                        3          61   \n",
       "2          2          Other                        4          92   \n",
       "3          4  Life Sciences                        4          56   \n",
       "4          1        Medical                        1          40   \n",
       "\n",
       "   JobInvolvement  ...  PerformanceRating RelationshipSatisfaction  \\\n",
       "0               3  ...                  3                        1   \n",
       "1               2  ...                  4                        4   \n",
       "2               2  ...                  3                        2   \n",
       "3               3  ...                  3                        3   \n",
       "4               3  ...                  3                        4   \n",
       "\n",
       "   StockOptionLevel TotalWorkingYears  TrainingTimesLastYear WorkLifeBalance  \\\n",
       "0                 0                 8                      0               1   \n",
       "1                 1                10                      3               3   \n",
       "2                 0                 7                      3               3   \n",
       "3                 0                 8                      3               3   \n",
       "4                 1                 6                      3               3   \n",
       "\n",
       "   YearsAtCompany  YearsInCurrentRole  YearsSinceLastPromotion  \\\n",
       "0               6                   4                        0   \n",
       "1              10                   7                        1   \n",
       "2               0                   0                        0   \n",
       "3               8                   7                        3   \n",
       "4               2                   2                        2   \n",
       "\n",
       "   YearsWithCurrManager  \n",
       "0                     5  \n",
       "1                     7  \n",
       "2                     0  \n",
       "3                     0  \n",
       "4                     2  \n",
       "\n",
       "[5 rows x 27 columns]"
      ]
     },
     "execution_count": 1,
     "metadata": {},
     "output_type": "execute_result"
    }
   ],
   "source": [
    "# Import our dependencies\n",
    "from sklearn.model_selection import train_test_split\n",
    "from sklearn.preprocessing import StandardScaler\n",
    "import pandas as pd\n",
    "import numpy as np\n",
    "from tensorflow.keras.models import Model\n",
    "from tensorflow.keras import layers\n",
    "\n",
    "#  Import and read the attrition data\n",
    "attrition_df = pd.read_csv('https://static.bc-edx.com/ai/ail-v-1-0/m19/lms/datasets/attrition.csv')\n",
    "attrition_df.head()"
   ]
  },
  {
   "cell_type": "code",
   "execution_count": 2,
   "metadata": {
    "colab": {
     "base_uri": "https://localhost:8080/",
     "height": 930
    },
    "executionInfo": {
     "elapsed": 10,
     "status": "ok",
     "timestamp": 1730699226906,
     "user": {
      "displayName": "Alexander Booth",
      "userId": "02269714993535573104"
     },
     "user_tz": 360
    },
    "id": "g22aQSY4Gc3Q",
    "outputId": "e8b68509-45d8-42e0-a9db-1bdce48e4b2d"
   },
   "outputs": [
    {
     "data": {
      "text/plain": [
       "Age                         43\n",
       "Attrition                    2\n",
       "BusinessTravel               3\n",
       "Department                   3\n",
       "DistanceFromHome            29\n",
       "Education                    5\n",
       "EducationField               6\n",
       "EnvironmentSatisfaction      4\n",
       "HourlyRate                  71\n",
       "JobInvolvement               4\n",
       "JobLevel                     5\n",
       "JobRole                      9\n",
       "JobSatisfaction              4\n",
       "MaritalStatus                3\n",
       "NumCompaniesWorked          10\n",
       "OverTime                     2\n",
       "PercentSalaryHike           15\n",
       "PerformanceRating            2\n",
       "RelationshipSatisfaction     4\n",
       "StockOptionLevel             4\n",
       "TotalWorkingYears           40\n",
       "TrainingTimesLastYear        7\n",
       "WorkLifeBalance              4\n",
       "YearsAtCompany              37\n",
       "YearsInCurrentRole          19\n",
       "YearsSinceLastPromotion     16\n",
       "YearsWithCurrManager        18\n",
       "dtype: int64"
      ]
     },
     "execution_count": 2,
     "metadata": {},
     "output_type": "execute_result"
    }
   ],
   "source": [
    "# Determine the number of unique values in each column\n",
    "attrition_df.nunique()"
   ]
  },
  {
   "cell_type": "code",
   "execution_count": 3,
   "metadata": {
    "executionInfo": {
     "elapsed": 7,
     "status": "ok",
     "timestamp": 1730699226906,
     "user": {
      "displayName": "Alexander Booth",
      "userId": "02269714993535573104"
     },
     "user_tz": 360
    },
    "id": "50vMgBEnJbfM"
   },
   "outputs": [],
   "source": [
    "# Create y_df with the Attrition and Department columns\n",
    "y_df = attrition_df[['Attrition', 'Department']]"
   ]
  },
  {
   "cell_type": "code",
   "execution_count": 4,
   "metadata": {
    "colab": {
     "base_uri": "https://localhost:8080/",
     "height": 397
    },
    "executionInfo": {
     "elapsed": 125,
     "status": "ok",
     "timestamp": 1730699227025,
     "user": {
      "displayName": "Alexander Booth",
      "userId": "02269714993535573104"
     },
     "user_tz": 360
    },
    "id": "Virka0zLGc3R",
    "outputId": "24f181c9-7e2e-42cb-94e8-a75842f1ab01"
   },
   "outputs": [
    {
     "data": {
      "text/plain": [
       "Education                   int64\n",
       "Age                         int64\n",
       "DistanceFromHome            int64\n",
       "JobSatisfaction             int64\n",
       "OverTime                   object\n",
       "StockOptionLevel            int64\n",
       "WorkLifeBalance             int64\n",
       "YearsAtCompany              int64\n",
       "YearsSinceLastPromotion     int64\n",
       "NumCompaniesWorked          int64\n",
       "dtype: object"
      ]
     },
     "execution_count": 4,
     "metadata": {},
     "output_type": "execute_result"
    }
   ],
   "source": [
    "# Create a list of at least 10 column names to use as X data\n",
    "X_columns = ['Education',\n",
    "            'Age',\n",
    "            'DistanceFromHome',\n",
    "            'JobSatisfaction',\n",
    "            'OverTime', 'StockOptionLevel',\n",
    "            'WorkLifeBalance',\n",
    "            'YearsAtCompany',\n",
    "            'YearsSinceLastPromotion',\n",
    "            'NumCompaniesWorked']\n",
    "\n",
    "# Create X_df using your selected columns\n",
    "X_df = attrition_df[X_columns]\n",
    "\n",
    "# Show the data types for X_df\n",
    "X_df.dtypes"
   ]
  },
  {
   "cell_type": "code",
   "execution_count": 5,
   "metadata": {
    "executionInfo": {
     "elapsed": 9,
     "status": "ok",
     "timestamp": 1730699227025,
     "user": {
      "displayName": "Alexander Booth",
      "userId": "02269714993535573104"
     },
     "user_tz": 360
    },
    "id": "KaJfdOGUMHMR"
   },
   "outputs": [],
   "source": [
    "# Split the data into training and testing sets\n",
    "from sklearn.model_selection import train_test_split\n",
    "X_train, X_test, y_train, y_test = train_test_split(X_df, y_df, random_state=1)"
   ]
  },
  {
   "cell_type": "code",
   "execution_count": 6,
   "metadata": {
    "colab": {
     "base_uri": "https://localhost:8080/",
     "height": 178
    },
    "executionInfo": {
     "elapsed": 8,
     "status": "ok",
     "timestamp": 1730699227025,
     "user": {
      "displayName": "Alexander Booth",
      "userId": "02269714993535573104"
     },
     "user_tz": 360
    },
    "id": "NYubUJqiLCSp",
    "outputId": "6116187c-4afa-4d4a-aeb9-fdc2131d0d58"
   },
   "outputs": [
    {
     "data": {
      "text/plain": [
       "OverTime\n",
       "0    798\n",
       "1    304\n",
       "Name: count, dtype: int64"
      ]
     },
     "execution_count": 6,
     "metadata": {},
     "output_type": "execute_result"
    }
   ],
   "source": [
    "# Convert your X data to numeric data types however you see fit\n",
    "# Add new code cells as necessary\n",
    "X_train['OverTime'] = X_train['OverTime'].apply(lambda x: 1 if x == 'Yes' else 0)\n",
    "X_test['OverTime'] = X_test['OverTime'].apply(lambda x: 1 if x == 'Yes' else 0)\n",
    "X_train['OverTime'].value_counts()\n"
   ]
  },
  {
   "cell_type": "code",
   "execution_count": 7,
   "metadata": {
    "executionInfo": {
     "elapsed": 6,
     "status": "ok",
     "timestamp": 1730699227162,
     "user": {
      "displayName": "Alexander Booth",
      "userId": "02269714993535573104"
     },
     "user_tz": 360
    },
    "id": "EWA-aIA5Gc3T"
   },
   "outputs": [],
   "source": [
    "# Create a StandardScaler\n",
    "scaler = StandardScaler()\n",
    "\n",
    "# Fit the StandardScaler to the training data\n",
    "X_scaler = scaler.fit(X_train)\n",
    "\n",
    "# Scale the training and testing data\n",
    "X_train_scaled = X_scaler.transform(X_train)\n",
    "X_test_scaled = X_scaler.transform(X_test)"
   ]
  },
  {
   "cell_type": "code",
   "execution_count": 8,
   "metadata": {
    "colab": {
     "base_uri": "https://localhost:8080/"
    },
    "executionInfo": {
     "elapsed": 99,
     "status": "ok",
     "timestamp": 1730699227256,
     "user": {
      "displayName": "Alexander Booth",
      "userId": "02269714993535573104"
     },
     "user_tz": 360
    },
    "id": "-z0Mky8vQSz4",
    "outputId": "5024d63f-7e4e-4a91-fb76-0b2c79c1bcfb"
   },
   "outputs": [
    {
     "data": {
      "text/plain": [
       "array([[0., 1., 0.],\n",
       "       [0., 1., 0.],\n",
       "       [0., 0., 1.],\n",
       "       ...,\n",
       "       [1., 0., 0.],\n",
       "       [0., 0., 1.],\n",
       "       [0., 0., 1.]])"
      ]
     },
     "execution_count": 8,
     "metadata": {},
     "output_type": "execute_result"
    }
   ],
   "source": [
    "from sklearn.preprocessing import OneHotEncoder\n",
    "\n",
    "# Create a OneHotEncoder for the Department column\n",
    "department_enc = OneHotEncoder(sparse_output=False, handle_unknown='ignore')\n",
    "\n",
    "# Fit the encoder to the training data\n",
    "department_enc.fit(np.array(y_train['Department']).reshape(-1, 1))\n",
    "\n",
    "# Create two new variables by applying the encoder\n",
    "# to the training and testing data\n",
    "y_train_department_enc = department_enc.transform(np.array(y_train['Department']).reshape(-1, 1))\n",
    "y_test__department_enc = department_enc.transform(np.array(y_test['Department']).reshape(-1, 1)) \n",
    "y_train_department_enc"
   ]
  },
  {
   "cell_type": "code",
   "execution_count": 9,
   "metadata": {
    "colab": {
     "base_uri": "https://localhost:8080/"
    },
    "executionInfo": {
     "elapsed": 5,
     "status": "ok",
     "timestamp": 1730699227257,
     "user": {
      "displayName": "Alexander Booth",
      "userId": "02269714993535573104"
     },
     "user_tz": 360
    },
    "id": "-G4DSpvFRrk4",
    "outputId": "1821049e-a4f0-437f-b8a7-e415431fbdb0"
   },
   "outputs": [
    {
     "data": {
      "text/plain": [
       "array([[1., 0.],\n",
       "       [1., 0.],\n",
       "       [0., 1.],\n",
       "       ...,\n",
       "       [1., 0.],\n",
       "       [1., 0.],\n",
       "       [1., 0.]])"
      ]
     },
     "execution_count": 9,
     "metadata": {},
     "output_type": "execute_result"
    }
   ],
   "source": [
    "# Create a OneHotEncoder for the Attrition column\n",
    "attrition_enc = OneHotEncoder(sparse_output=False, handle_unknown='ignore')\n",
    "\n",
    "# Fit the encoder to the training data\n",
    "attrition_enc.fit(np.array(y_train['Attrition']).reshape(-1, 1))\n",
    "\n",
    "# Create two new variables by applying the encoder\n",
    "# to the training and testing data\n",
    "y_train_attrition_enc = attrition_enc.transform(np.array(y_train['Attrition']).reshape(-1, 1)) \n",
    "y_test__attrition_enc = attrition_enc.transform(np.array(y_test['Attrition']).reshape(-1, 1))  \n",
    "y_train_attrition_enc"
   ]
  },
  {
   "cell_type": "markdown",
   "metadata": {
    "id": "ykNmu_WWGc3T"
   },
   "source": [
    "## Part 2: Create, Compile, and Train the Model"
   ]
  },
  {
   "cell_type": "code",
   "execution_count": 10,
   "metadata": {
    "executionInfo": {
     "elapsed": 309,
     "status": "ok",
     "timestamp": 1730699227563,
     "user": {
      "displayName": "Alexander Booth",
      "userId": "02269714993535573104"
     },
     "user_tz": 360
    },
    "id": "WUptZqmSGc3T"
   },
   "outputs": [
    {
     "name": "stderr",
     "output_type": "stream",
     "text": [
      "2025-03-05 21:24:43.296105: I tensorflow/core/platform/cpu_feature_guard.cc:193] This TensorFlow binary is optimized with oneAPI Deep Neural Network Library (oneDNN) to use the following CPU instructions in performance-critical operations:  SSE4.1 SSE4.2\n",
      "To enable them in other operations, rebuild TensorFlow with the appropriate compiler flags.\n"
     ]
    }
   ],
   "source": [
    "# Find the number of columns in the X training data.\n",
    "input_features = len(X_train.columns)\n",
    "\n",
    "# Create the input layer\n",
    "input = layers.Input(shape=(input_features,))\n",
    "\n",
    "# Create at least two shared layers\n",
    "shared_layer1 = layers.Dense(units=64, activation='relu', name='shared1')(input)\n",
    "shared_layer2 = layers.Dense(units=32, activation='relu', name='shared2')(shared_layer1)"
   ]
  },
  {
   "cell_type": "code",
   "execution_count": 11,
   "metadata": {
    "executionInfo": {
     "elapsed": 118,
     "status": "ok",
     "timestamp": 1730699227678,
     "user": {
      "displayName": "Alexander Booth",
      "userId": "02269714993535573104"
     },
     "user_tz": 360
    },
    "id": "JukjTm2yTEqd"
   },
   "outputs": [],
   "source": [
    "# Create a branch for Department\n",
    "# with a hidden layer and an output layer\n",
    "\n",
    "# Create the hidden layer\n",
    "department_hidden = layers.Dense(32, activation='relu',\n",
    "                                 name='department_hidden')(shared_layer2)\n",
    "\n",
    "# Create the output layer\n",
    "department_output = layers.Dense(y_train_department_enc.shape[1],\n",
    "                                 activation='softmax',\n",
    "                                 name='department_output')(department_hidden)"
   ]
  },
  {
   "cell_type": "code",
   "execution_count": 12,
   "metadata": {
    "executionInfo": {
     "elapsed": 9,
     "status": "ok",
     "timestamp": 1730699227679,
     "user": {
      "displayName": "Alexander Booth",
      "userId": "02269714993535573104"
     },
     "user_tz": 360
    },
    "id": "9OqhUiOJUBkR"
   },
   "outputs": [],
   "source": [
    "# Create a branch for Attrition\n",
    "# with a hidden layer and an output layer\n",
    "\n",
    "# Create the hidden layer\n",
    "attrition_hidden= layers.Dense(32, activation='relu',\n",
    "                                 name='attrition_hidden')(shared_layer2)\n",
    "\n",
    "# Create the output layer\n",
    "attrition_output = layers.Dense(y_train_attrition_enc.shape[1], activation='sigmoid', name='attrition_output')(attrition_hidden)\n"
   ]
  },
  {
   "cell_type": "code",
   "execution_count": 13,
   "metadata": {
    "colab": {
     "base_uri": "https://localhost:8080/",
     "height": 361
    },
    "executionInfo": {
     "elapsed": 108,
     "status": "ok",
     "timestamp": 1730699227780,
     "user": {
      "displayName": "Alexander Booth",
      "userId": "02269714993535573104"
     },
     "user_tz": 360
    },
    "id": "twmuejdxGc3T",
    "outputId": "dd9ce242-6a66-4709-ba13-4b13551c22e0"
   },
   "outputs": [
    {
     "name": "stdout",
     "output_type": "stream",
     "text": [
      "Model: \"model\"\n",
      "__________________________________________________________________________________________________\n",
      " Layer (type)                   Output Shape         Param #     Connected to                     \n",
      "==================================================================================================\n",
      " input_1 (InputLayer)           [(None, 10)]         0           []                               \n",
      "                                                                                                  \n",
      " shared1 (Dense)                (None, 64)           704         ['input_1[0][0]']                \n",
      "                                                                                                  \n",
      " shared2 (Dense)                (None, 32)           2080        ['shared1[0][0]']                \n",
      "                                                                                                  \n",
      " attrition_hidden (Dense)       (None, 32)           1056        ['shared2[0][0]']                \n",
      "                                                                                                  \n",
      " department_hidden (Dense)      (None, 32)           1056        ['shared2[0][0]']                \n",
      "                                                                                                  \n",
      " attrition_output (Dense)       (None, 2)            66          ['attrition_hidden[0][0]']       \n",
      "                                                                                                  \n",
      " department_output (Dense)      (None, 3)            99          ['department_hidden[0][0]']      \n",
      "                                                                                                  \n",
      "==================================================================================================\n",
      "Total params: 5,061\n",
      "Trainable params: 5,061\n",
      "Non-trainable params: 0\n",
      "__________________________________________________________________________________________________\n"
     ]
    }
   ],
   "source": [
    "# Create the model\n",
    "model = Model(inputs=input, outputs={'department_output': department_output, 'attrition_output': attrition_output}) \n",
    "\n",
    "# Compile the model\n",
    "model.compile(optimizer='adam', loss={ \n",
    "            'department_output': 'categorical_crossentropy',\n",
    "            'attrition_output': 'binary_crossentropy' }, \n",
    "            metrics={ 'department_output': 'accuracy',\n",
    "                     'attrition_output': 'accuracy' })\n",
    "\n",
    "# Summarize the model\n",
    "model.summary()"
   ]
  },
  {
   "cell_type": "code",
   "execution_count": 14,
   "metadata": {},
   "outputs": [
    {
     "name": "stdout",
     "output_type": "stream",
     "text": [
      "Epoch 1/100\n",
      "28/28 [==============================] - 1s 10ms/step - loss: 1.6685 - attrition_output_loss: 0.6460 - department_output_loss: 1.0225 - attrition_output_accuracy: 0.7037 - department_output_accuracy: 0.4938 - val_loss: 1.4953 - val_attrition_output_loss: 0.5704 - val_department_output_loss: 0.9249 - val_attrition_output_accuracy: 0.8281 - val_department_output_accuracy: 0.6335\n",
      "Epoch 2/100\n",
      "28/28 [==============================] - 0s 2ms/step - loss: 1.3074 - attrition_output_loss: 0.4883 - department_output_loss: 0.8192 - attrition_output_accuracy: 0.8513 - department_output_accuracy: 0.6640 - val_loss: 1.3455 - val_attrition_output_loss: 0.4899 - val_department_output_loss: 0.8556 - val_attrition_output_accuracy: 0.8281 - val_department_output_accuracy: 0.6335\n",
      "Epoch 3/100\n",
      "28/28 [==============================] - 0s 2ms/step - loss: 1.1892 - attrition_output_loss: 0.4154 - department_output_loss: 0.7738 - attrition_output_accuracy: 0.8513 - department_output_accuracy: 0.6640 - val_loss: 1.3342 - val_attrition_output_loss: 0.4823 - val_department_output_loss: 0.8519 - val_attrition_output_accuracy: 0.8281 - val_department_output_accuracy: 0.6335\n",
      "Epoch 4/100\n",
      "28/28 [==============================] - 0s 2ms/step - loss: 1.1554 - attrition_output_loss: 0.3916 - department_output_loss: 0.7638 - attrition_output_accuracy: 0.8513 - department_output_accuracy: 0.6640 - val_loss: 1.3190 - val_attrition_output_loss: 0.4748 - val_department_output_loss: 0.8442 - val_attrition_output_accuracy: 0.8281 - val_department_output_accuracy: 0.6290\n",
      "Epoch 5/100\n",
      "28/28 [==============================] - 0s 2ms/step - loss: 1.1304 - attrition_output_loss: 0.3743 - department_output_loss: 0.7561 - attrition_output_accuracy: 0.8513 - department_output_accuracy: 0.6640 - val_loss: 1.3235 - val_attrition_output_loss: 0.4785 - val_department_output_loss: 0.8450 - val_attrition_output_accuracy: 0.8281 - val_department_output_accuracy: 0.6335\n",
      "Epoch 6/100\n",
      "28/28 [==============================] - 0s 2ms/step - loss: 1.1122 - attrition_output_loss: 0.3630 - department_output_loss: 0.7492 - attrition_output_accuracy: 0.8513 - department_output_accuracy: 0.6640 - val_loss: 1.3204 - val_attrition_output_loss: 0.4723 - val_department_output_loss: 0.8481 - val_attrition_output_accuracy: 0.8281 - val_department_output_accuracy: 0.6335\n",
      "Epoch 7/100\n",
      "28/28 [==============================] - 0s 2ms/step - loss: 1.0969 - attrition_output_loss: 0.3531 - department_output_loss: 0.7438 - attrition_output_accuracy: 0.8558 - department_output_accuracy: 0.6640 - val_loss: 1.3145 - val_attrition_output_loss: 0.4730 - val_department_output_loss: 0.8415 - val_attrition_output_accuracy: 0.8281 - val_department_output_accuracy: 0.6335\n",
      "Epoch 8/100\n",
      "28/28 [==============================] - 0s 2ms/step - loss: 1.0829 - attrition_output_loss: 0.3436 - department_output_loss: 0.7393 - attrition_output_accuracy: 0.8581 - department_output_accuracy: 0.6686 - val_loss: 1.3388 - val_attrition_output_loss: 0.4711 - val_department_output_loss: 0.8677 - val_attrition_output_accuracy: 0.8281 - val_department_output_accuracy: 0.6335\n",
      "Epoch 9/100\n",
      "28/28 [==============================] - 0s 2ms/step - loss: 1.0696 - attrition_output_loss: 0.3364 - department_output_loss: 0.7332 - attrition_output_accuracy: 0.8661 - department_output_accuracy: 0.6686 - val_loss: 1.3132 - val_attrition_output_loss: 0.4692 - val_department_output_loss: 0.8440 - val_attrition_output_accuracy: 0.8235 - val_department_output_accuracy: 0.6199\n",
      "Epoch 10/100\n",
      "28/28 [==============================] - 0s 2ms/step - loss: 1.0563 - attrition_output_loss: 0.3299 - department_output_loss: 0.7264 - attrition_output_accuracy: 0.8729 - department_output_accuracy: 0.6697 - val_loss: 1.3250 - val_attrition_output_loss: 0.4748 - val_department_output_loss: 0.8502 - val_attrition_output_accuracy: 0.8281 - val_department_output_accuracy: 0.6335\n",
      "Epoch 11/100\n",
      "28/28 [==============================] - 0s 2ms/step - loss: 1.0451 - attrition_output_loss: 0.3258 - department_output_loss: 0.7193 - attrition_output_accuracy: 0.8729 - department_output_accuracy: 0.6720 - val_loss: 1.3296 - val_attrition_output_loss: 0.4775 - val_department_output_loss: 0.8521 - val_attrition_output_accuracy: 0.8190 - val_department_output_accuracy: 0.6063\n",
      "Epoch 12/100\n",
      "28/28 [==============================] - 0s 2ms/step - loss: 1.0342 - attrition_output_loss: 0.3206 - department_output_loss: 0.7135 - attrition_output_accuracy: 0.8797 - department_output_accuracy: 0.6788 - val_loss: 1.3360 - val_attrition_output_loss: 0.4756 - val_department_output_loss: 0.8605 - val_attrition_output_accuracy: 0.8190 - val_department_output_accuracy: 0.6154\n",
      "Epoch 13/100\n",
      "28/28 [==============================] - 0s 2ms/step - loss: 1.0223 - attrition_output_loss: 0.3143 - department_output_loss: 0.7079 - attrition_output_accuracy: 0.8729 - department_output_accuracy: 0.6822 - val_loss: 1.3285 - val_attrition_output_loss: 0.4705 - val_department_output_loss: 0.8580 - val_attrition_output_accuracy: 0.8190 - val_department_output_accuracy: 0.6063\n",
      "Epoch 14/100\n",
      "28/28 [==============================] - 0s 2ms/step - loss: 1.0121 - attrition_output_loss: 0.3094 - department_output_loss: 0.7028 - attrition_output_accuracy: 0.8876 - department_output_accuracy: 0.6856 - val_loss: 1.3478 - val_attrition_output_loss: 0.4772 - val_department_output_loss: 0.8706 - val_attrition_output_accuracy: 0.8190 - val_department_output_accuracy: 0.6199\n",
      "Epoch 15/100\n",
      "28/28 [==============================] - 0s 2ms/step - loss: 0.9989 - attrition_output_loss: 0.3043 - department_output_loss: 0.6945 - attrition_output_accuracy: 0.8785 - department_output_accuracy: 0.6935 - val_loss: 1.3426 - val_attrition_output_loss: 0.4747 - val_department_output_loss: 0.8679 - val_attrition_output_accuracy: 0.8235 - val_department_output_accuracy: 0.6109\n",
      "Epoch 16/100\n",
      "28/28 [==============================] - 0s 3ms/step - loss: 0.9910 - attrition_output_loss: 0.3003 - department_output_loss: 0.6907 - attrition_output_accuracy: 0.8865 - department_output_accuracy: 0.6879 - val_loss: 1.3519 - val_attrition_output_loss: 0.4795 - val_department_output_loss: 0.8724 - val_attrition_output_accuracy: 0.8145 - val_department_output_accuracy: 0.6018\n",
      "Epoch 17/100\n",
      "28/28 [==============================] - 0s 2ms/step - loss: 0.9791 - attrition_output_loss: 0.2949 - department_output_loss: 0.6842 - attrition_output_accuracy: 0.8888 - department_output_accuracy: 0.6958 - val_loss: 1.3526 - val_attrition_output_loss: 0.4751 - val_department_output_loss: 0.8774 - val_attrition_output_accuracy: 0.8235 - val_department_output_accuracy: 0.6109\n",
      "Epoch 18/100\n",
      "28/28 [==============================] - 0s 2ms/step - loss: 0.9681 - attrition_output_loss: 0.2911 - department_output_loss: 0.6770 - attrition_output_accuracy: 0.8933 - department_output_accuracy: 0.6992 - val_loss: 1.3553 - val_attrition_output_loss: 0.4783 - val_department_output_loss: 0.8770 - val_attrition_output_accuracy: 0.8235 - val_department_output_accuracy: 0.5973\n",
      "Epoch 19/100\n",
      "28/28 [==============================] - 0s 2ms/step - loss: 0.9586 - attrition_output_loss: 0.2871 - department_output_loss: 0.6715 - attrition_output_accuracy: 0.8978 - department_output_accuracy: 0.7003 - val_loss: 1.3670 - val_attrition_output_loss: 0.4830 - val_department_output_loss: 0.8840 - val_attrition_output_accuracy: 0.8235 - val_department_output_accuracy: 0.5837\n",
      "Epoch 20/100\n",
      "28/28 [==============================] - 0s 2ms/step - loss: 0.9473 - attrition_output_loss: 0.2837 - department_output_loss: 0.6636 - attrition_output_accuracy: 0.8990 - department_output_accuracy: 0.7128 - val_loss: 1.3840 - val_attrition_output_loss: 0.4892 - val_department_output_loss: 0.8949 - val_attrition_output_accuracy: 0.8281 - val_department_output_accuracy: 0.5928\n",
      "Epoch 21/100\n",
      "28/28 [==============================] - 0s 2ms/step - loss: 0.9364 - attrition_output_loss: 0.2801 - department_output_loss: 0.6563 - attrition_output_accuracy: 0.8990 - department_output_accuracy: 0.7185 - val_loss: 1.3969 - val_attrition_output_loss: 0.4845 - val_department_output_loss: 0.9123 - val_attrition_output_accuracy: 0.8190 - val_department_output_accuracy: 0.6244\n",
      "Epoch 22/100\n",
      "28/28 [==============================] - 0s 2ms/step - loss: 0.9279 - attrition_output_loss: 0.2784 - department_output_loss: 0.6494 - attrition_output_accuracy: 0.9001 - department_output_accuracy: 0.7140 - val_loss: 1.4167 - val_attrition_output_loss: 0.4986 - val_department_output_loss: 0.9180 - val_attrition_output_accuracy: 0.8281 - val_department_output_accuracy: 0.6199\n",
      "Epoch 23/100\n",
      "28/28 [==============================] - 0s 2ms/step - loss: 0.9215 - attrition_output_loss: 0.2774 - department_output_loss: 0.6441 - attrition_output_accuracy: 0.8978 - department_output_accuracy: 0.7219 - val_loss: 1.4050 - val_attrition_output_loss: 0.4868 - val_department_output_loss: 0.9182 - val_attrition_output_accuracy: 0.8235 - val_department_output_accuracy: 0.6063\n",
      "Epoch 24/100\n",
      "28/28 [==============================] - 0s 2ms/step - loss: 0.9107 - attrition_output_loss: 0.2713 - department_output_loss: 0.6394 - attrition_output_accuracy: 0.9001 - department_output_accuracy: 0.7128 - val_loss: 1.4101 - val_attrition_output_loss: 0.4924 - val_department_output_loss: 0.9177 - val_attrition_output_accuracy: 0.8235 - val_department_output_accuracy: 0.5747\n",
      "Epoch 25/100\n",
      "28/28 [==============================] - 0s 2ms/step - loss: 0.8975 - attrition_output_loss: 0.2703 - department_output_loss: 0.6272 - attrition_output_accuracy: 0.9035 - department_output_accuracy: 0.7276 - val_loss: 1.4215 - val_attrition_output_loss: 0.5001 - val_department_output_loss: 0.9214 - val_attrition_output_accuracy: 0.8281 - val_department_output_accuracy: 0.5475\n",
      "Epoch 26/100\n",
      "28/28 [==============================] - 0s 2ms/step - loss: 0.8899 - attrition_output_loss: 0.2676 - department_output_loss: 0.6223 - attrition_output_accuracy: 0.9024 - department_output_accuracy: 0.7299 - val_loss: 1.4352 - val_attrition_output_loss: 0.4983 - val_department_output_loss: 0.9369 - val_attrition_output_accuracy: 0.8235 - val_department_output_accuracy: 0.5385\n",
      "Epoch 27/100\n",
      "28/28 [==============================] - 0s 2ms/step - loss: 0.8892 - attrition_output_loss: 0.2647 - department_output_loss: 0.6245 - attrition_output_accuracy: 0.9058 - department_output_accuracy: 0.7333 - val_loss: 1.4438 - val_attrition_output_loss: 0.5023 - val_department_output_loss: 0.9415 - val_attrition_output_accuracy: 0.8281 - val_department_output_accuracy: 0.5294\n",
      "Epoch 28/100\n",
      "28/28 [==============================] - 0s 2ms/step - loss: 0.8669 - attrition_output_loss: 0.2588 - department_output_loss: 0.6080 - attrition_output_accuracy: 0.9103 - department_output_accuracy: 0.7333 - val_loss: 1.4461 - val_attrition_output_loss: 0.4955 - val_department_output_loss: 0.9506 - val_attrition_output_accuracy: 0.8235 - val_department_output_accuracy: 0.5430\n",
      "Epoch 29/100\n",
      "28/28 [==============================] - 0s 2ms/step - loss: 0.8581 - attrition_output_loss: 0.2569 - department_output_loss: 0.6012 - attrition_output_accuracy: 0.9012 - department_output_accuracy: 0.7412 - val_loss: 1.4833 - val_attrition_output_loss: 0.5195 - val_department_output_loss: 0.9638 - val_attrition_output_accuracy: 0.8281 - val_department_output_accuracy: 0.5475\n",
      "Epoch 30/100\n",
      "28/28 [==============================] - 0s 2ms/step - loss: 0.8479 - attrition_output_loss: 0.2569 - department_output_loss: 0.5910 - attrition_output_accuracy: 0.9058 - department_output_accuracy: 0.7469 - val_loss: 1.4765 - val_attrition_output_loss: 0.5141 - val_department_output_loss: 0.9624 - val_attrition_output_accuracy: 0.8235 - val_department_output_accuracy: 0.5520\n",
      "Epoch 31/100\n",
      "28/28 [==============================] - 0s 2ms/step - loss: 0.8367 - attrition_output_loss: 0.2532 - department_output_loss: 0.5835 - attrition_output_accuracy: 0.9092 - department_output_accuracy: 0.7616 - val_loss: 1.5004 - val_attrition_output_loss: 0.5173 - val_department_output_loss: 0.9831 - val_attrition_output_accuracy: 0.8100 - val_department_output_accuracy: 0.5656\n",
      "Epoch 32/100\n",
      "28/28 [==============================] - 0s 2ms/step - loss: 0.8336 - attrition_output_loss: 0.2493 - department_output_loss: 0.5843 - attrition_output_accuracy: 0.9137 - department_output_accuracy: 0.7480 - val_loss: 1.4902 - val_attrition_output_loss: 0.5113 - val_department_output_loss: 0.9790 - val_attrition_output_accuracy: 0.8190 - val_department_output_accuracy: 0.5611\n",
      "Epoch 33/100\n",
      "28/28 [==============================] - 0s 2ms/step - loss: 0.8213 - attrition_output_loss: 0.2471 - department_output_loss: 0.5742 - attrition_output_accuracy: 0.9137 - department_output_accuracy: 0.7696 - val_loss: 1.5296 - val_attrition_output_loss: 0.5185 - val_department_output_loss: 1.0111 - val_attrition_output_accuracy: 0.8054 - val_department_output_accuracy: 0.5656\n",
      "Epoch 34/100\n",
      "28/28 [==============================] - 0s 2ms/step - loss: 0.8176 - attrition_output_loss: 0.2496 - department_output_loss: 0.5679 - attrition_output_accuracy: 0.9115 - department_output_accuracy: 0.7605 - val_loss: 1.5285 - val_attrition_output_loss: 0.5283 - val_department_output_loss: 1.0002 - val_attrition_output_accuracy: 0.8009 - val_department_output_accuracy: 0.5520\n",
      "Epoch 35/100\n",
      "28/28 [==============================] - 0s 2ms/step - loss: 0.8038 - attrition_output_loss: 0.2457 - department_output_loss: 0.5581 - attrition_output_accuracy: 0.9149 - department_output_accuracy: 0.7673 - val_loss: 1.5489 - val_attrition_output_loss: 0.5216 - val_department_output_loss: 1.0273 - val_attrition_output_accuracy: 0.8054 - val_department_output_accuracy: 0.5475\n",
      "Epoch 36/100\n",
      "28/28 [==============================] - 0s 2ms/step - loss: 0.7909 - attrition_output_loss: 0.2425 - department_output_loss: 0.5484 - attrition_output_accuracy: 0.9149 - department_output_accuracy: 0.7787 - val_loss: 1.5463 - val_attrition_output_loss: 0.5341 - val_department_output_loss: 1.0122 - val_attrition_output_accuracy: 0.8190 - val_department_output_accuracy: 0.5520\n",
      "Epoch 37/100\n",
      "28/28 [==============================] - 0s 2ms/step - loss: 0.7847 - attrition_output_loss: 0.2403 - department_output_loss: 0.5444 - attrition_output_accuracy: 0.9160 - department_output_accuracy: 0.7855 - val_loss: 1.5649 - val_attrition_output_loss: 0.5298 - val_department_output_loss: 1.0351 - val_attrition_output_accuracy: 0.8054 - val_department_output_accuracy: 0.5520\n",
      "Epoch 38/100\n",
      "28/28 [==============================] - 0s 2ms/step - loss: 0.7799 - attrition_output_loss: 0.2393 - department_output_loss: 0.5406 - attrition_output_accuracy: 0.9171 - department_output_accuracy: 0.7753 - val_loss: 1.5692 - val_attrition_output_loss: 0.5322 - val_department_output_loss: 1.0370 - val_attrition_output_accuracy: 0.8054 - val_department_output_accuracy: 0.5294\n",
      "Epoch 39/100\n",
      "28/28 [==============================] - 0s 2ms/step - loss: 0.7719 - attrition_output_loss: 0.2356 - department_output_loss: 0.5363 - attrition_output_accuracy: 0.9171 - department_output_accuracy: 0.7889 - val_loss: 1.5865 - val_attrition_output_loss: 0.5383 - val_department_output_loss: 1.0482 - val_attrition_output_accuracy: 0.8100 - val_department_output_accuracy: 0.5520\n",
      "Epoch 40/100\n",
      "28/28 [==============================] - 0s 2ms/step - loss: 0.7581 - attrition_output_loss: 0.2349 - department_output_loss: 0.5232 - attrition_output_accuracy: 0.9194 - department_output_accuracy: 0.7946 - val_loss: 1.6285 - val_attrition_output_loss: 0.5362 - val_department_output_loss: 1.0923 - val_attrition_output_accuracy: 0.8145 - val_department_output_accuracy: 0.5520\n",
      "Epoch 41/100\n",
      "28/28 [==============================] - 0s 2ms/step - loss: 0.7454 - attrition_output_loss: 0.2281 - department_output_loss: 0.5173 - attrition_output_accuracy: 0.9183 - department_output_accuracy: 0.7821 - val_loss: 1.6450 - val_attrition_output_loss: 0.5474 - val_department_output_loss: 1.0976 - val_attrition_output_accuracy: 0.7964 - val_department_output_accuracy: 0.5656\n",
      "Epoch 42/100\n",
      "28/28 [==============================] - 0s 2ms/step - loss: 0.7398 - attrition_output_loss: 0.2311 - department_output_loss: 0.5088 - attrition_output_accuracy: 0.9171 - department_output_accuracy: 0.7934 - val_loss: 1.6790 - val_attrition_output_loss: 0.5465 - val_department_output_loss: 1.1326 - val_attrition_output_accuracy: 0.7964 - val_department_output_accuracy: 0.5792\n",
      "Epoch 43/100\n",
      "28/28 [==============================] - 0s 2ms/step - loss: 0.7286 - attrition_output_loss: 0.2276 - department_output_loss: 0.5010 - attrition_output_accuracy: 0.9171 - department_output_accuracy: 0.8048 - val_loss: 1.6543 - val_attrition_output_loss: 0.5485 - val_department_output_loss: 1.1058 - val_attrition_output_accuracy: 0.7964 - val_department_output_accuracy: 0.5385\n",
      "Epoch 44/100\n",
      "28/28 [==============================] - 0s 2ms/step - loss: 0.7263 - attrition_output_loss: 0.2275 - department_output_loss: 0.4989 - attrition_output_accuracy: 0.9194 - department_output_accuracy: 0.7968 - val_loss: 1.6540 - val_attrition_output_loss: 0.5508 - val_department_output_loss: 1.1032 - val_attrition_output_accuracy: 0.8009 - val_department_output_accuracy: 0.5430\n",
      "Epoch 45/100\n",
      "28/28 [==============================] - 0s 2ms/step - loss: 0.7051 - attrition_output_loss: 0.2233 - department_output_loss: 0.4818 - attrition_output_accuracy: 0.9183 - department_output_accuracy: 0.8014 - val_loss: 1.6807 - val_attrition_output_loss: 0.5509 - val_department_output_loss: 1.1298 - val_attrition_output_accuracy: 0.8054 - val_department_output_accuracy: 0.5430\n",
      "Epoch 46/100\n",
      "28/28 [==============================] - 0s 2ms/step - loss: 0.7026 - attrition_output_loss: 0.2216 - department_output_loss: 0.4811 - attrition_output_accuracy: 0.9205 - department_output_accuracy: 0.8048 - val_loss: 1.6965 - val_attrition_output_loss: 0.5569 - val_department_output_loss: 1.1396 - val_attrition_output_accuracy: 0.8054 - val_department_output_accuracy: 0.5701\n",
      "Epoch 47/100\n",
      "28/28 [==============================] - 0s 2ms/step - loss: 0.6900 - attrition_output_loss: 0.2170 - department_output_loss: 0.4730 - attrition_output_accuracy: 0.9194 - department_output_accuracy: 0.8195 - val_loss: 1.7049 - val_attrition_output_loss: 0.5624 - val_department_output_loss: 1.1425 - val_attrition_output_accuracy: 0.8009 - val_department_output_accuracy: 0.5520\n",
      "Epoch 48/100\n",
      "28/28 [==============================] - 0s 2ms/step - loss: 0.6822 - attrition_output_loss: 0.2160 - department_output_loss: 0.4662 - attrition_output_accuracy: 0.9205 - department_output_accuracy: 0.8229 - val_loss: 1.7507 - val_attrition_output_loss: 0.5629 - val_department_output_loss: 1.1878 - val_attrition_output_accuracy: 0.8009 - val_department_output_accuracy: 0.5430\n",
      "Epoch 49/100\n",
      "28/28 [==============================] - 0s 2ms/step - loss: 0.6699 - attrition_output_loss: 0.2137 - department_output_loss: 0.4562 - attrition_output_accuracy: 0.9194 - department_output_accuracy: 0.8297 - val_loss: 1.7537 - val_attrition_output_loss: 0.5734 - val_department_output_loss: 1.1803 - val_attrition_output_accuracy: 0.8009 - val_department_output_accuracy: 0.5113\n",
      "Epoch 50/100\n",
      "28/28 [==============================] - 0s 2ms/step - loss: 0.6680 - attrition_output_loss: 0.2105 - department_output_loss: 0.4575 - attrition_output_accuracy: 0.9217 - department_output_accuracy: 0.8173 - val_loss: 1.7822 - val_attrition_output_loss: 0.5821 - val_department_output_loss: 1.2002 - val_attrition_output_accuracy: 0.8145 - val_department_output_accuracy: 0.5701\n",
      "Epoch 51/100\n",
      "28/28 [==============================] - 0s 2ms/step - loss: 0.6503 - attrition_output_loss: 0.2093 - department_output_loss: 0.4410 - attrition_output_accuracy: 0.9217 - department_output_accuracy: 0.8388 - val_loss: 1.7795 - val_attrition_output_loss: 0.5812 - val_department_output_loss: 1.1983 - val_attrition_output_accuracy: 0.7964 - val_department_output_accuracy: 0.5385\n",
      "Epoch 52/100\n",
      "28/28 [==============================] - 0s 2ms/step - loss: 0.6456 - attrition_output_loss: 0.2084 - department_output_loss: 0.4372 - attrition_output_accuracy: 0.9262 - department_output_accuracy: 0.8320 - val_loss: 1.8342 - val_attrition_output_loss: 0.5935 - val_department_output_loss: 1.2408 - val_attrition_output_accuracy: 0.7873 - val_department_output_accuracy: 0.5656\n",
      "Epoch 53/100\n",
      "28/28 [==============================] - 0s 2ms/step - loss: 0.6385 - attrition_output_loss: 0.2057 - department_output_loss: 0.4328 - attrition_output_accuracy: 0.9251 - department_output_accuracy: 0.8286 - val_loss: 1.8527 - val_attrition_output_loss: 0.5932 - val_department_output_loss: 1.2595 - val_attrition_output_accuracy: 0.8145 - val_department_output_accuracy: 0.5701\n",
      "Epoch 54/100\n",
      "28/28 [==============================] - 0s 2ms/step - loss: 0.6373 - attrition_output_loss: 0.2066 - department_output_loss: 0.4307 - attrition_output_accuracy: 0.9205 - department_output_accuracy: 0.8456 - val_loss: 1.8570 - val_attrition_output_loss: 0.5940 - val_department_output_loss: 1.2630 - val_attrition_output_accuracy: 0.7919 - val_department_output_accuracy: 0.5430\n",
      "Epoch 55/100\n",
      "28/28 [==============================] - 0s 2ms/step - loss: 0.6191 - attrition_output_loss: 0.2049 - department_output_loss: 0.4142 - attrition_output_accuracy: 0.9183 - department_output_accuracy: 0.8479 - val_loss: 1.8799 - val_attrition_output_loss: 0.6019 - val_department_output_loss: 1.2780 - val_attrition_output_accuracy: 0.7964 - val_department_output_accuracy: 0.5068\n",
      "Epoch 56/100\n",
      "28/28 [==============================] - 0s 2ms/step - loss: 0.6104 - attrition_output_loss: 0.2005 - department_output_loss: 0.4099 - attrition_output_accuracy: 0.9251 - department_output_accuracy: 0.8593 - val_loss: 1.8947 - val_attrition_output_loss: 0.6085 - val_department_output_loss: 1.2861 - val_attrition_output_accuracy: 0.7964 - val_department_output_accuracy: 0.5566\n",
      "Epoch 57/100\n",
      "28/28 [==============================] - 0s 2ms/step - loss: 0.6030 - attrition_output_loss: 0.1977 - department_output_loss: 0.4053 - attrition_output_accuracy: 0.9240 - department_output_accuracy: 0.8456 - val_loss: 1.9025 - val_attrition_output_loss: 0.6002 - val_department_output_loss: 1.3023 - val_attrition_output_accuracy: 0.8009 - val_department_output_accuracy: 0.5385\n",
      "Epoch 58/100\n",
      "28/28 [==============================] - 0s 2ms/step - loss: 0.5906 - attrition_output_loss: 0.1975 - department_output_loss: 0.3931 - attrition_output_accuracy: 0.9296 - department_output_accuracy: 0.8558 - val_loss: 1.9459 - val_attrition_output_loss: 0.6102 - val_department_output_loss: 1.3357 - val_attrition_output_accuracy: 0.7964 - val_department_output_accuracy: 0.5520\n",
      "Epoch 59/100\n",
      "28/28 [==============================] - 0s 2ms/step - loss: 0.5876 - attrition_output_loss: 0.1936 - department_output_loss: 0.3940 - attrition_output_accuracy: 0.9240 - department_output_accuracy: 0.8513 - val_loss: 1.9624 - val_attrition_output_loss: 0.6172 - val_department_output_loss: 1.3451 - val_attrition_output_accuracy: 0.8100 - val_department_output_accuracy: 0.5158\n",
      "Epoch 60/100\n",
      "28/28 [==============================] - 0s 2ms/step - loss: 0.5713 - attrition_output_loss: 0.1930 - department_output_loss: 0.3783 - attrition_output_accuracy: 0.9274 - department_output_accuracy: 0.8593 - val_loss: 1.9446 - val_attrition_output_loss: 0.6171 - val_department_output_loss: 1.3275 - val_attrition_output_accuracy: 0.7919 - val_department_output_accuracy: 0.5520\n",
      "Epoch 61/100\n",
      "28/28 [==============================] - 0s 2ms/step - loss: 0.5677 - attrition_output_loss: 0.1913 - department_output_loss: 0.3764 - attrition_output_accuracy: 0.9342 - department_output_accuracy: 0.8649 - val_loss: 1.9558 - val_attrition_output_loss: 0.6202 - val_department_output_loss: 1.3356 - val_attrition_output_accuracy: 0.8054 - val_department_output_accuracy: 0.5249\n",
      "Epoch 62/100\n",
      "28/28 [==============================] - 0s 3ms/step - loss: 0.5658 - attrition_output_loss: 0.1922 - department_output_loss: 0.3736 - attrition_output_accuracy: 0.9217 - department_output_accuracy: 0.8695 - val_loss: 1.9969 - val_attrition_output_loss: 0.6292 - val_department_output_loss: 1.3678 - val_attrition_output_accuracy: 0.8009 - val_department_output_accuracy: 0.5520\n",
      "Epoch 63/100\n",
      "28/28 [==============================] - 0s 2ms/step - loss: 0.5467 - attrition_output_loss: 0.1868 - department_output_loss: 0.3599 - attrition_output_accuracy: 0.9285 - department_output_accuracy: 0.8706 - val_loss: 2.0218 - val_attrition_output_loss: 0.6345 - val_department_output_loss: 1.3873 - val_attrition_output_accuracy: 0.7873 - val_department_output_accuracy: 0.5294\n",
      "Epoch 64/100\n",
      "28/28 [==============================] - 0s 2ms/step - loss: 0.5419 - attrition_output_loss: 0.1869 - department_output_loss: 0.3550 - attrition_output_accuracy: 0.9274 - department_output_accuracy: 0.8649 - val_loss: 2.0425 - val_attrition_output_loss: 0.6411 - val_department_output_loss: 1.4014 - val_attrition_output_accuracy: 0.7964 - val_department_output_accuracy: 0.5294\n",
      "Epoch 65/100\n",
      "28/28 [==============================] - 0s 2ms/step - loss: 0.5354 - attrition_output_loss: 0.1860 - department_output_loss: 0.3493 - attrition_output_accuracy: 0.9319 - department_output_accuracy: 0.8751 - val_loss: 2.0332 - val_attrition_output_loss: 0.6330 - val_department_output_loss: 1.4002 - val_attrition_output_accuracy: 0.7828 - val_department_output_accuracy: 0.5249\n",
      "Epoch 66/100\n",
      "28/28 [==============================] - 0s 2ms/step - loss: 0.5343 - attrition_output_loss: 0.1802 - department_output_loss: 0.3541 - attrition_output_accuracy: 0.9296 - department_output_accuracy: 0.8808 - val_loss: 2.0935 - val_attrition_output_loss: 0.6534 - val_department_output_loss: 1.4401 - val_attrition_output_accuracy: 0.7873 - val_department_output_accuracy: 0.5520\n",
      "Epoch 67/100\n",
      "28/28 [==============================] - 0s 3ms/step - loss: 0.5286 - attrition_output_loss: 0.1830 - department_output_loss: 0.3456 - attrition_output_accuracy: 0.9274 - department_output_accuracy: 0.8740 - val_loss: 2.0847 - val_attrition_output_loss: 0.6453 - val_department_output_loss: 1.4394 - val_attrition_output_accuracy: 0.7964 - val_department_output_accuracy: 0.5204\n",
      "Epoch 68/100\n",
      "28/28 [==============================] - 0s 3ms/step - loss: 0.5156 - attrition_output_loss: 0.1795 - department_output_loss: 0.3361 - attrition_output_accuracy: 0.9342 - department_output_accuracy: 0.8785 - val_loss: 2.1540 - val_attrition_output_loss: 0.6632 - val_department_output_loss: 1.4908 - val_attrition_output_accuracy: 0.8009 - val_department_output_accuracy: 0.5294\n",
      "Epoch 69/100\n",
      "28/28 [==============================] - 0s 2ms/step - loss: 0.5022 - attrition_output_loss: 0.1776 - department_output_loss: 0.3246 - attrition_output_accuracy: 0.9296 - department_output_accuracy: 0.8910 - val_loss: 2.1404 - val_attrition_output_loss: 0.6423 - val_department_output_loss: 1.4981 - val_attrition_output_accuracy: 0.7828 - val_department_output_accuracy: 0.5385\n",
      "Epoch 70/100\n",
      "28/28 [==============================] - 0s 3ms/step - loss: 0.4916 - attrition_output_loss: 0.1731 - department_output_loss: 0.3185 - attrition_output_accuracy: 0.9342 - department_output_accuracy: 0.8842 - val_loss: 2.1528 - val_attrition_output_loss: 0.6670 - val_department_output_loss: 1.4857 - val_attrition_output_accuracy: 0.7828 - val_department_output_accuracy: 0.5385\n",
      "Epoch 71/100\n",
      "28/28 [==============================] - 0s 2ms/step - loss: 0.4890 - attrition_output_loss: 0.1716 - department_output_loss: 0.3173 - attrition_output_accuracy: 0.9342 - department_output_accuracy: 0.8910 - val_loss: 2.2016 - val_attrition_output_loss: 0.6611 - val_department_output_loss: 1.5406 - val_attrition_output_accuracy: 0.7919 - val_department_output_accuracy: 0.5566\n",
      "Epoch 72/100\n",
      "28/28 [==============================] - 0s 2ms/step - loss: 0.4801 - attrition_output_loss: 0.1709 - department_output_loss: 0.3093 - attrition_output_accuracy: 0.9319 - department_output_accuracy: 0.8876 - val_loss: 2.2144 - val_attrition_output_loss: 0.6714 - val_department_output_loss: 1.5429 - val_attrition_output_accuracy: 0.7828 - val_department_output_accuracy: 0.5294\n",
      "Epoch 73/100\n",
      "28/28 [==============================] - 0s 3ms/step - loss: 0.4752 - attrition_output_loss: 0.1708 - department_output_loss: 0.3043 - attrition_output_accuracy: 0.9342 - department_output_accuracy: 0.8865 - val_loss: 2.2079 - val_attrition_output_loss: 0.6715 - val_department_output_loss: 1.5364 - val_attrition_output_accuracy: 0.7873 - val_department_output_accuracy: 0.5701\n",
      "Epoch 74/100\n",
      "28/28 [==============================] - 0s 2ms/step - loss: 0.4707 - attrition_output_loss: 0.1689 - department_output_loss: 0.3018 - attrition_output_accuracy: 0.9319 - department_output_accuracy: 0.8910 - val_loss: 2.2538 - val_attrition_output_loss: 0.6899 - val_department_output_loss: 1.5638 - val_attrition_output_accuracy: 0.7964 - val_department_output_accuracy: 0.5430\n",
      "Epoch 75/100\n",
      "28/28 [==============================] - 0s 3ms/step - loss: 0.4603 - attrition_output_loss: 0.1628 - department_output_loss: 0.2975 - attrition_output_accuracy: 0.9421 - department_output_accuracy: 0.9035 - val_loss: 2.3457 - val_attrition_output_loss: 0.6905 - val_department_output_loss: 1.6553 - val_attrition_output_accuracy: 0.7783 - val_department_output_accuracy: 0.5385\n",
      "Epoch 76/100\n",
      "28/28 [==============================] - 0s 2ms/step - loss: 0.4552 - attrition_output_loss: 0.1608 - department_output_loss: 0.2944 - attrition_output_accuracy: 0.9387 - department_output_accuracy: 0.8899 - val_loss: 2.2971 - val_attrition_output_loss: 0.7028 - val_department_output_loss: 1.5943 - val_attrition_output_accuracy: 0.7919 - val_department_output_accuracy: 0.5339\n",
      "Epoch 77/100\n",
      "28/28 [==============================] - 0s 2ms/step - loss: 0.4487 - attrition_output_loss: 0.1654 - department_output_loss: 0.2833 - attrition_output_accuracy: 0.9432 - department_output_accuracy: 0.9047 - val_loss: 2.3486 - val_attrition_output_loss: 0.6828 - val_department_output_loss: 1.6658 - val_attrition_output_accuracy: 0.7828 - val_department_output_accuracy: 0.5385\n",
      "Epoch 78/100\n",
      "28/28 [==============================] - 0s 2ms/step - loss: 0.4353 - attrition_output_loss: 0.1557 - department_output_loss: 0.2796 - attrition_output_accuracy: 0.9410 - department_output_accuracy: 0.8990 - val_loss: 2.3842 - val_attrition_output_loss: 0.7136 - val_department_output_loss: 1.6705 - val_attrition_output_accuracy: 0.8009 - val_department_output_accuracy: 0.5294\n",
      "Epoch 79/100\n",
      "28/28 [==============================] - 0s 2ms/step - loss: 0.4338 - attrition_output_loss: 0.1612 - department_output_loss: 0.2726 - attrition_output_accuracy: 0.9353 - department_output_accuracy: 0.9024 - val_loss: 2.3559 - val_attrition_output_loss: 0.7117 - val_department_output_loss: 1.6441 - val_attrition_output_accuracy: 0.8009 - val_department_output_accuracy: 0.5385\n",
      "Epoch 80/100\n",
      "28/28 [==============================] - 0s 2ms/step - loss: 0.4255 - attrition_output_loss: 0.1569 - department_output_loss: 0.2686 - attrition_output_accuracy: 0.9444 - department_output_accuracy: 0.9160 - val_loss: 2.4395 - val_attrition_output_loss: 0.7232 - val_department_output_loss: 1.7163 - val_attrition_output_accuracy: 0.7919 - val_department_output_accuracy: 0.5249\n",
      "Epoch 81/100\n",
      "28/28 [==============================] - 0s 2ms/step - loss: 0.4187 - attrition_output_loss: 0.1512 - department_output_loss: 0.2675 - attrition_output_accuracy: 0.9432 - department_output_accuracy: 0.9115 - val_loss: 2.4407 - val_attrition_output_loss: 0.7157 - val_department_output_loss: 1.7250 - val_attrition_output_accuracy: 0.7783 - val_department_output_accuracy: 0.5158\n",
      "Epoch 82/100\n",
      "28/28 [==============================] - 0s 2ms/step - loss: 0.4101 - attrition_output_loss: 0.1489 - department_output_loss: 0.2612 - attrition_output_accuracy: 0.9432 - department_output_accuracy: 0.9103 - val_loss: 2.4440 - val_attrition_output_loss: 0.7293 - val_department_output_loss: 1.7146 - val_attrition_output_accuracy: 0.7828 - val_department_output_accuracy: 0.5520\n",
      "Epoch 83/100\n",
      "28/28 [==============================] - 0s 2ms/step - loss: 0.3996 - attrition_output_loss: 0.1453 - department_output_loss: 0.2543 - attrition_output_accuracy: 0.9489 - department_output_accuracy: 0.9081 - val_loss: 2.5488 - val_attrition_output_loss: 0.7462 - val_department_output_loss: 1.8027 - val_attrition_output_accuracy: 0.7873 - val_department_output_accuracy: 0.5475\n",
      "Epoch 84/100\n",
      "28/28 [==============================] - 0s 2ms/step - loss: 0.3936 - attrition_output_loss: 0.1473 - department_output_loss: 0.2462 - attrition_output_accuracy: 0.9455 - department_output_accuracy: 0.9171 - val_loss: 2.4957 - val_attrition_output_loss: 0.7381 - val_department_output_loss: 1.7575 - val_attrition_output_accuracy: 0.7783 - val_department_output_accuracy: 0.5520\n",
      "Epoch 85/100\n",
      "28/28 [==============================] - 0s 2ms/step - loss: 0.3868 - attrition_output_loss: 0.1439 - department_output_loss: 0.2429 - attrition_output_accuracy: 0.9501 - department_output_accuracy: 0.9217 - val_loss: 2.5270 - val_attrition_output_loss: 0.7472 - val_department_output_loss: 1.7797 - val_attrition_output_accuracy: 0.7964 - val_department_output_accuracy: 0.5113\n",
      "Epoch 86/100\n",
      "28/28 [==============================] - 0s 2ms/step - loss: 0.3810 - attrition_output_loss: 0.1402 - department_output_loss: 0.2407 - attrition_output_accuracy: 0.9523 - department_output_accuracy: 0.9171 - val_loss: 2.6174 - val_attrition_output_loss: 0.7655 - val_department_output_loss: 1.8518 - val_attrition_output_accuracy: 0.7873 - val_department_output_accuracy: 0.5475\n",
      "Epoch 87/100\n",
      "28/28 [==============================] - 0s 2ms/step - loss: 0.3766 - attrition_output_loss: 0.1445 - department_output_loss: 0.2321 - attrition_output_accuracy: 0.9455 - department_output_accuracy: 0.9194 - val_loss: 2.5849 - val_attrition_output_loss: 0.7593 - val_department_output_loss: 1.8256 - val_attrition_output_accuracy: 0.7919 - val_department_output_accuracy: 0.5475\n",
      "Epoch 88/100\n",
      "28/28 [==============================] - 0s 2ms/step - loss: 0.3768 - attrition_output_loss: 0.1408 - department_output_loss: 0.2360 - attrition_output_accuracy: 0.9455 - department_output_accuracy: 0.9251 - val_loss: 2.6624 - val_attrition_output_loss: 0.7741 - val_department_output_loss: 1.8882 - val_attrition_output_accuracy: 0.7919 - val_department_output_accuracy: 0.5249\n",
      "Epoch 89/100\n",
      "28/28 [==============================] - 0s 2ms/step - loss: 0.3662 - attrition_output_loss: 0.1374 - department_output_loss: 0.2288 - attrition_output_accuracy: 0.9467 - department_output_accuracy: 0.9251 - val_loss: 2.6468 - val_attrition_output_loss: 0.7774 - val_department_output_loss: 1.8694 - val_attrition_output_accuracy: 0.7783 - val_department_output_accuracy: 0.5520\n",
      "Epoch 90/100\n",
      "28/28 [==============================] - 0s 2ms/step - loss: 0.3579 - attrition_output_loss: 0.1343 - department_output_loss: 0.2236 - attrition_output_accuracy: 0.9580 - department_output_accuracy: 0.9285 - val_loss: 2.6737 - val_attrition_output_loss: 0.8004 - val_department_output_loss: 1.8733 - val_attrition_output_accuracy: 0.7783 - val_department_output_accuracy: 0.5611\n",
      "Epoch 91/100\n",
      "28/28 [==============================] - 0s 2ms/step - loss: 0.3483 - attrition_output_loss: 0.1326 - department_output_loss: 0.2157 - attrition_output_accuracy: 0.9523 - department_output_accuracy: 0.9274 - val_loss: 2.7341 - val_attrition_output_loss: 0.7994 - val_department_output_loss: 1.9346 - val_attrition_output_accuracy: 0.7919 - val_department_output_accuracy: 0.5339\n",
      "Epoch 92/100\n",
      "28/28 [==============================] - 0s 2ms/step - loss: 0.3401 - attrition_output_loss: 0.1289 - department_output_loss: 0.2112 - attrition_output_accuracy: 0.9546 - department_output_accuracy: 0.9432 - val_loss: 2.7931 - val_attrition_output_loss: 0.8128 - val_department_output_loss: 1.9803 - val_attrition_output_accuracy: 0.7828 - val_department_output_accuracy: 0.5339\n",
      "Epoch 93/100\n",
      "28/28 [==============================] - 0s 2ms/step - loss: 0.3471 - attrition_output_loss: 0.1365 - department_output_loss: 0.2106 - attrition_output_accuracy: 0.9546 - department_output_accuracy: 0.9319 - val_loss: 2.7913 - val_attrition_output_loss: 0.8181 - val_department_output_loss: 1.9733 - val_attrition_output_accuracy: 0.7919 - val_department_output_accuracy: 0.5158\n",
      "Epoch 94/100\n",
      "28/28 [==============================] - 0s 2ms/step - loss: 0.3444 - attrition_output_loss: 0.1320 - department_output_loss: 0.2124 - attrition_output_accuracy: 0.9467 - department_output_accuracy: 0.9342 - val_loss: 2.8246 - val_attrition_output_loss: 0.8219 - val_department_output_loss: 2.0027 - val_attrition_output_accuracy: 0.8009 - val_department_output_accuracy: 0.5158\n",
      "Epoch 95/100\n",
      "28/28 [==============================] - 0s 2ms/step - loss: 0.3338 - attrition_output_loss: 0.1243 - department_output_loss: 0.2095 - attrition_output_accuracy: 0.9580 - department_output_accuracy: 0.9444 - val_loss: 2.8681 - val_attrition_output_loss: 0.8382 - val_department_output_loss: 2.0299 - val_attrition_output_accuracy: 0.7738 - val_department_output_accuracy: 0.5249\n",
      "Epoch 96/100\n",
      "28/28 [==============================] - 0s 3ms/step - loss: 0.3320 - attrition_output_loss: 0.1209 - department_output_loss: 0.2111 - attrition_output_accuracy: 0.9580 - department_output_accuracy: 0.9364 - val_loss: 2.8612 - val_attrition_output_loss: 0.8237 - val_department_output_loss: 2.0375 - val_attrition_output_accuracy: 0.7783 - val_department_output_accuracy: 0.4932\n",
      "Epoch 97/100\n",
      "28/28 [==============================] - 0s 2ms/step - loss: 0.3187 - attrition_output_loss: 0.1198 - department_output_loss: 0.1989 - attrition_output_accuracy: 0.9603 - department_output_accuracy: 0.9410 - val_loss: 2.9491 - val_attrition_output_loss: 0.8549 - val_department_output_loss: 2.0942 - val_attrition_output_accuracy: 0.7828 - val_department_output_accuracy: 0.5113\n",
      "Epoch 98/100\n",
      "28/28 [==============================] - 0s 2ms/step - loss: 0.3152 - attrition_output_loss: 0.1183 - department_output_loss: 0.1969 - attrition_output_accuracy: 0.9603 - department_output_accuracy: 0.9387 - val_loss: 2.8784 - val_attrition_output_loss: 0.8461 - val_department_output_loss: 2.0323 - val_attrition_output_accuracy: 0.7783 - val_department_output_accuracy: 0.5385\n",
      "Epoch 99/100\n",
      "28/28 [==============================] - 0s 2ms/step - loss: 0.3123 - attrition_output_loss: 0.1173 - department_output_loss: 0.1950 - attrition_output_accuracy: 0.9580 - department_output_accuracy: 0.9410 - val_loss: 2.9910 - val_attrition_output_loss: 0.8920 - val_department_output_loss: 2.0990 - val_attrition_output_accuracy: 0.7692 - val_department_output_accuracy: 0.5430\n",
      "Epoch 100/100\n",
      "28/28 [==============================] - 0s 3ms/step - loss: 0.3000 - attrition_output_loss: 0.1172 - department_output_loss: 0.1828 - attrition_output_accuracy: 0.9580 - department_output_accuracy: 0.9489 - val_loss: 3.0267 - val_attrition_output_loss: 0.8914 - val_department_output_loss: 2.1353 - val_attrition_output_accuracy: 0.7828 - val_department_output_accuracy: 0.5158\n"
     ]
    },
    {
     "data": {
      "text/plain": [
       "<keras.callbacks.History at 0x172baceb0>"
      ]
     },
     "execution_count": 14,
     "metadata": {},
     "output_type": "execute_result"
    }
   ],
   "source": [
    "# Train the model\n",
    "model.fit(X_train_scaled, {'department_output': y_train_department_enc, 'attrition_output': y_train_attrition_enc},\n",
    "                    epochs=100, validation_split=0.2)"
   ]
  },
  {
   "cell_type": "code",
   "execution_count": 15,
   "metadata": {
    "colab": {
     "base_uri": "https://localhost:8080/"
    },
    "executionInfo": {
     "elapsed": 379,
     "status": "ok",
     "timestamp": 1730699259894,
     "user": {
      "displayName": "Alexander Booth",
      "userId": "02269714993535573104"
     },
     "user_tz": 360
    },
    "id": "VsMoaQlgGc3U",
    "outputId": "636c85ba-ee63-4087-b7d1-00b408f1055a"
   },
   "outputs": [
    {
     "name": "stdout",
     "output_type": "stream",
     "text": [
      "12/12 [==============================] - 0s 886us/step - loss: 2.7363 - attrition_output_loss: 0.8011 - department_output_loss: 1.9352 - attrition_output_accuracy: 0.8098 - department_output_accuracy: 0.5190\n"
     ]
    },
    {
     "data": {
      "text/plain": [
       "[2.736300468444824,\n",
       " 0.8011118173599243,\n",
       " 1.9351886510849,\n",
       " 0.8097826242446899,\n",
       " 0.51902174949646]"
      ]
     },
     "execution_count": 15,
     "metadata": {},
     "output_type": "execute_result"
    }
   ],
   "source": [
    "# Evaluate the model with the testing data\n",
    "test_results = model.evaluate(X_test_scaled, {'department_output': y_test__department_enc, 'attrition_output': y_test__attrition_enc})\n",
    "test_results"
   ]
  },
  {
   "cell_type": "code",
   "execution_count": 16,
   "metadata": {
    "colab": {
     "base_uri": "https://localhost:8080/"
    },
    "executionInfo": {
     "elapsed": 113,
     "status": "ok",
     "timestamp": 1730699260004,
     "user": {
      "displayName": "Alexander Booth",
      "userId": "02269714993535573104"
     },
     "user_tz": 360
    },
    "id": "ZlCtlHi0Vt54",
    "outputId": "3a32435c-11cf-48da-81b5-1431d6c00da2"
   },
   "outputs": [
    {
     "name": "stdout",
     "output_type": "stream",
     "text": [
      "Attrition predictions accuracy: 0.8097826242446899\n",
      "Department predictions accuracy: 0.51902174949646\n"
     ]
    }
   ],
   "source": [
    "# Print the accuracy for both department and attrition\n",
    "print(f\"Attrition predictions accuracy: {test_results[3]}\")\n",
    "print(f\"Department predictions accuracy: {test_results[4]}\")"
   ]
  },
  {
   "cell_type": "markdown",
   "metadata": {
    "id": "eGSyfsZfWOQM"
   },
   "source": [
    "# Summary\n",
    "\n",
    "In the provided space below, briefly answer the following questions.\n",
    "\n",
    "1. Is accuracy the best metric to use on this data? Why or why not?\n",
    "\n",
    "2. What activation functions did you choose for your output layers, and why?\n",
    "\n",
    "3. Can you name a few ways that this model might be improved?"
   ]
  },
  {
   "cell_type": "markdown",
   "metadata": {
    "id": "pi9SLpFnWvbF"
   },
   "source": [
    "YOUR ANSWERS HERE\n",
    "\n",
    "1. \n",
    "Accuracy is a good metric, but it might not be the best for this dataset. Since there are probably more employees staying than leaving, the model could just predict \"no attrition\" most of the time and still get a high accuracy. But that wouldn’t actually help in finding employees who are likely to leave.\n",
    "\n",
    "2.\n",
    " For the Department prediction, I used Softmax because there are multiple departments. Softmax makes sure the model picks the most likely department by giving a probability for each one.\n",
    "\n",
    "For Attrition, I used Sigmoid since there are only two choices (Yes or No). Sigmoid gives a probability between 0 and 1, which helps predict how likely an employee is to leave.\n",
    "\n",
    "3. \n",
    "Add more features like job role, salary, or satisfaction levels to make better predictions.  \n",
    "Use better metrics instead of just accuracy, check precision, recall to get a clearer idea of how well the model is performing.  \n",
    "Fix class imbalance using SMOTE or class weighting to help the model detect employees who might leave.\n"
   ]
  }
 ],
 "metadata": {
  "colab": {
   "provenance": []
  },
  "kernelspec": {
   "display_name": "dev",
   "language": "python",
   "name": "python3"
  },
  "language_info": {
   "codemirror_mode": {
    "name": "ipython",
    "version": 3
   },
   "file_extension": ".py",
   "mimetype": "text/x-python",
   "name": "python",
   "nbconvert_exporter": "python",
   "pygments_lexer": "ipython3",
   "version": "3.10.16"
  }
 },
 "nbformat": 4,
 "nbformat_minor": 0
}
